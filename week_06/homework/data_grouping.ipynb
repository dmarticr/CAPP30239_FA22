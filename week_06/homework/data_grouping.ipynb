{
 "cells": [
  {
   "cell_type": "code",
   "execution_count": 1,
   "metadata": {},
   "outputs": [],
   "source": [
    "import pandas as pd\n",
    "import numpy as np\n",
    "import calendar\n",
    "\n",
    "df = pd.read_json('a3cleanedonly2015.json')\n",
    "df = df.rename(columns = {'Race': \"race\", 'Date': \"date\", 'Mental_illness': \"mental_illness\"})\n",
    "df['month'] = pd.DatetimeIndex(df['date']).month\n",
    "\n",
    "df1 = df.groupby(['race'])['FIELD1'].count().reset_index()\n",
    "df1 = df1.loc[df1[\"race\"] != '']\n",
    "df1['count'] = (df1['FIELD1'] / df1['FIELD1'].sum()) * 100\n",
    "df1 = df1.drop(['FIELD1'], axis=1)\n",
    "df1.to_csv('race.csv', index = False)"
   ]
  },
  {
   "cell_type": "code",
   "execution_count": 2,
   "metadata": {},
   "outputs": [],
   "source": [
    "df2 = df.groupby(['mental_illness'])['FIELD1'].count().reset_index()\n",
    "df2 = df2.loc[df2[\"mental_illness\"] != '']\n",
    "df2['count'] = (df2['FIELD1'] / df2['FIELD1'].sum()) * 100\n",
    "df2 = df2.drop(['FIELD1'], axis=1)\n",
    "df2.to_csv('mental_illness.csv', index = False)"
   ]
  },
  {
   "cell_type": "code",
   "execution_count": 3,
   "metadata": {},
   "outputs": [],
   "source": [
    "df3 = df.groupby(['month'])['FIELD1'].count().reset_index()\n",
    "df3 = df3.rename(columns = {'FIELD1': \"count\"})\n",
    "df3['month'] = df3['month'].apply(lambda x: calendar.month_abbr[x])\n",
    "df3.to_csv('kill_month.csv', index = False)"
   ]
  }
 ],
 "metadata": {
  "kernelspec": {
   "display_name": "Python 3.10.4 64-bit",
   "language": "python",
   "name": "python3"
  },
  "language_info": {
   "codemirror_mode": {
    "name": "ipython",
    "version": 3
   },
   "file_extension": ".py",
   "mimetype": "text/x-python",
   "name": "python",
   "nbconvert_exporter": "python",
   "pygments_lexer": "ipython3",
   "version": "3.10.4"
  },
  "orig_nbformat": 4,
  "vscode": {
   "interpreter": {
    "hash": "52634da84371cba311ea128a5ea7cdc41ff074b781779e754b270ff9f8153cee"
   }
  }
 },
 "nbformat": 4,
 "nbformat_minor": 2
}
